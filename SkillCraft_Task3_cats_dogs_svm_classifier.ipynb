{
  "nbformat": 4,
  "nbformat_minor": 0,
  "metadata": {
    "colab": {
      "provenance": []
    },
    "kernelspec": {
      "name": "python3",
      "display_name": "Python 3"
    },
    "language_info": {
      "name": "python"
    }
  },
  "cells": [
    {
      "cell_type": "code",
      "source": [
        "import zipfile\n",
        "import os\n",
        "\n",
        "# Unzip the dataset\n",
        "with zipfile.ZipFile(\"dataset.zip\", 'r') as zip_ref:\n",
        "    zip_ref.extractall(\"cats_dogs_dataset_extracted\")\n",
        "\n",
        "print(\"Extraction complete.\")\n",
        "\n"
      ],
      "metadata": {
        "colab": {
          "base_uri": "https://localhost:8080/"
        },
        "id": "s762mVBQupF7",
        "outputId": "6da15f03-07ab-439e-8522-af53f12e0313"
      },
      "execution_count": null,
      "outputs": [
        {
          "output_type": "stream",
          "name": "stdout",
          "text": [
            "Extraction complete.\n"
          ]
        }
      ]
    },
    {
      "cell_type": "code",
      "source": [
        "def predict_one(img_path):\n",
        "    import cv2\n",
        "    img = cv2.imread(img_path, cv2.IMREAD_GRAYSCALE)\n",
        "    img = cv2.resize(img, (64, 64)).flatten().reshape(1, -1)\n",
        "    img = scaler.transform(img)\n",
        "    pred = svm_clf.predict(img)[0]\n",
        "    return \"Dog\" if pred == 1 else \"Cat\""
      ],
      "metadata": {
        "id": "XklgZ8RRvz4E"
      },
      "execution_count": null,
      "outputs": []
    },
    {
      "cell_type": "code",
      "source": [
        "import cv2\n",
        "\n",
        "# Use an actual file name here\n",
        "img_path = \"/content/cats_dogs_dataset_extracted/cat/cat.1.jpg\"\n",
        "img = cv2.imread(img_path, cv2.IMREAD_GRAYSCALE)\n",
        "print(img is not None)  # Should print: True\n"
      ],
      "metadata": {
        "colab": {
          "base_uri": "https://localhost:8080/"
        },
        "id": "kyzhOiFmy38K",
        "outputId": "b43f5961-86b2-46d6-a435-a2dd1327b7cb"
      },
      "execution_count": null,
      "outputs": [
        {
          "output_type": "stream",
          "name": "stdout",
          "text": [
            "False\n"
          ]
        }
      ]
    },
    {
      "cell_type": "code",
      "source": [
        "import os\n",
        "\n",
        "print(\"Files in /content/cats_dogs_dataset_extracted/cat/ (first 10):\")\n",
        "cat_files = os.listdir('/content/cats_dogs_dataset_extracted/cat/')\n",
        "# Sort to see consistent naming if available\n",
        "cat_files.sort()\n",
        "for i, file_name in enumerate(cat_files):\n",
        "    if i >= 10: # Print only first 10 for brevity\n",
        "        break\n",
        "    print(file_name)\n",
        "\n",
        "print(\"\\nFiles in /content/cats_dogs_dataset_extracted/dog/ (first 10):\")\n",
        "dog_files = os.listdir('/content/cats_dogs_dataset_extracted/dog/')\n",
        "dog_files.sort()\n",
        "for i, file_name in enumerate(dog_files):\n",
        "    if i >= 10: # Print only first 10 for brevity\n",
        "        break\n",
        "    print(file_name)"
      ],
      "metadata": {
        "colab": {
          "base_uri": "https://localhost:8080/"
        },
        "id": "4tkzIS8A1D5j",
        "outputId": "83da468f-8364-4068-cfb4-732bbc7d236a"
      },
      "execution_count": null,
      "outputs": [
        {
          "output_type": "stream",
          "name": "stdout",
          "text": [
            "Files in /content/cats_dogs_dataset_extracted/cat/ (first 10):\n",
            "0.jpg\n",
            "1.jpg\n",
            "10.jpg\n",
            "100.jpg\n",
            "11.jpg\n",
            "12.jpg\n",
            "13.jpg\n",
            "14.jpg\n",
            "15.jpg\n",
            "16.jpg\n",
            "\n",
            "Files in /content/cats_dogs_dataset_extracted/dog/ (first 10):\n",
            "0.jpg\n",
            "1.jpg\n",
            "10.jpg\n",
            "100.jpg\n",
            "11.jpg\n",
            "12.jpg\n",
            "13.jpg\n",
            "14.jpg\n",
            "15.jpg\n",
            "16.jpg\n"
          ]
        }
      ]
    },
    {
      "cell_type": "code",
      "source": [
        "import cv2 # OpenCV for image processing\n",
        "import numpy as np\n",
        "from sklearn.model_selection import train_test_split\n",
        "from sklearn.preprocessing import StandardScaler\n",
        "import os # Make sure os is imported for path operations\n",
        "\n",
        "# --- Configuration ---\n",
        "IMG_SIZE = 100 # All images will be resized to 100x100 pixels\n",
        "\n",
        "# This is the base path where 'cat' and 'dog' folders are located\n",
        "DATA_DIR = '/content/cats_dogs_dataset_extracted/'\n",
        "\n",
        "# --- Function to load and preprocess images ---\n",
        "def load_images_and_labels(data_dir, img_size):\n",
        "    images = []\n",
        "    labels = []\n",
        "    # Assuming 'cat' and 'dog' subfolders exist directly under data_dir\n",
        "    class_names = ['cat', 'dog']\n",
        "\n",
        "    # Known corrupt files in this dataset that cause imread to fail\n",
        "    # These paths are adjusted to match the numerical filenames.\n",
        "    corrupt_files = [\n",
        "        os.path.join(data_dir, 'dog', '1017.jpg'),\n",
        "        os.path.join(data_dir, 'cat', '666.jpg'),\n",
        "        os.path.join(data_dir, 'dog', '11702.jpg')\n",
        "    ]\n",
        "\n",
        "    for class_name in class_names:\n",
        "        path = os.path.join(data_dir, class_name)\n",
        "        class_label = 0 if class_name == 'cat' else 1 # 0 for Cat, 1 for Dog\n",
        "        print(f\"Loading images from: {path}\")\n",
        "\n",
        "        if not os.path.exists(path):\n",
        "            print(f\"Error: Directory not found: {path}. Please check your DATA_DIR path or class_names.\")\n",
        "            continue\n",
        "\n",
        "        for img_name in os.listdir(path):\n",
        "            img_path = os.path.join(path, img_name)\n",
        "\n",
        "            if img_path in corrupt_files:\n",
        "                # print(f\"Skipping known corrupt file: {img_path}\") # Uncomment if you want to see all skips\n",
        "                continue\n",
        "\n",
        "            try:\n",
        "                img = cv2.imread(img_path)\n",
        "                if img is not None:\n",
        "                    # Ensure image is not grayscale if you expect 3 channels\n",
        "                    if len(img.shape) == 2: # if grayscale\n",
        "                        img = cv2.cvtColor(img, cv2.COLOR_GRAY2BGR) # Convert to 3 channels\n",
        "                    img = cv2.resize(img, (img_size, img_size))\n",
        "                    images.append(img.flatten()) # Flatten RGB image (IMG_SIZE*IMG_SIZE*3)\n",
        "                    labels.append(class_label)\n",
        "                else:\n",
        "                    # This warning will appear for any unreadable images, including corrupt ones not in our list\n",
        "                    print(f\"Warning: Could not read image (possibly corrupt or invalid format) {img_path}\")\n",
        "            except Exception as e:\n",
        "                # This will catch other unexpected errors during image processing\n",
        "                print(f\"Error processing image {img_path}: {e}\")\n",
        "    return np.array(images), np.array(labels)\n",
        "\n",
        "# Load the dataset\n",
        "print(\"Starting image loading and preprocessing...\")\n",
        "X, y = load_images_and_labels(DATA_DIR, IMG_SIZE)\n",
        "print(f\"Loaded {len(X)} images.\")\n",
        "print(f\"Shape of feature matrix (X): {X.shape}\") # Should be (num_images, IMG_SIZE * IMG_SIZE * 3)\n",
        "print(f\"Shape of label vector (y): {y.shape}\")\n",
        "\n",
        "# Scale features\n",
        "scaler = StandardScaler()\n",
        "X_scaled = scaler.fit_transform(X)\n",
        "print(\"Features scaled.\")\n",
        "\n",
        "# Split the dataset into training and testing sets\n",
        "X_train, X_test, y_train, y_test = train_test_split(X_scaled, y, test_size=0.2, random_state=42)\n",
        "\n",
        "print(f\"\\nTraining data shape: {X_train.shape}\")\n",
        "print(f\"Testing data shape: {X_test.shape}\")\n",
        "print(f\"Training labels shape: {y_train.shape}\")\n",
        "print(f\"Testing labels shape: {y_test.shape}\")"
      ],
      "metadata": {
        "colab": {
          "base_uri": "https://localhost:8080/"
        },
        "id": "W-OBuei01fnR",
        "outputId": "dcfcd307-b81b-4477-d3cb-c9eba4a593a4"
      },
      "execution_count": null,
      "outputs": [
        {
          "output_type": "stream",
          "name": "stdout",
          "text": [
            "Starting image loading and preprocessing...\n",
            "Loading images from: /content/cats_dogs_dataset_extracted/cat\n",
            "Loading images from: /content/cats_dogs_dataset_extracted/dog\n",
            "Loaded 201 images.\n",
            "Shape of feature matrix (X): (201, 30000)\n",
            "Shape of label vector (y): (201,)\n",
            "Features scaled.\n",
            "\n",
            "Training data shape: (160, 30000)\n",
            "Testing data shape: (41, 30000)\n",
            "Training labels shape: (160,)\n",
            "Testing labels shape: (41,)\n"
          ]
        }
      ]
    },
    {
      "cell_type": "code",
      "source": [
        "from sklearn.svm import SVC\n",
        "from sklearn.metrics import accuracy_score, classification_report, confusion_matrix\n",
        "import time\n",
        "import matplotlib.pyplot as plt\n",
        "import seaborn as sns\n",
        "\n",
        "# --- Initialize and Train SVM ---\n",
        "print(\"\\nInitializing SVM classifier...\")\n",
        "# Using 'rbf' kernel is a good general choice. 'C' and 'gamma' are important hyperparameters.\n",
        "# For a dataset of 201 images (even after flattening to 30000 features), 'rbf' should be manageable.\n",
        "svm_model = SVC(kernel='rbf', C=1, gamma='scale', random_state=42, verbose=True)\n",
        "\n",
        "\n",
        "print(\"Training SVM model. This might still take a few minutes (e.g., 1-5 minutes for 160 images x 30000 features)...\")\n",
        "start_time = time.time()\n",
        "svm_model.fit(X_train, y_train)\n",
        "end_time = time.time()\n",
        "print(f\"SVM model training complete in {end_time - start_time:.2f} seconds.\")\n",
        "\n",
        "# --- Make Predictions ---\n",
        "print(\"Making predictions on the test set...\")\n",
        "y_pred = svm_model.predict(X_test)\n",
        "print(\"Predictions complete.\")\n",
        "\n",
        "# --- Evaluate the Model ---\n",
        "print(\"\\n--- Model Evaluation ---\")\n",
        "accuracy = accuracy_score(y_test, y_pred)\n",
        "print(f\"Accuracy: {accuracy:.4f}\")\n",
        "\n",
        "print(\"\\nClassification Report:\")\n",
        "print(classification_report(y_test, y_pred, target_names=['Cat', 'Dog'])) # Use 'Cat' and 'Dog' labels\n",
        "\n",
        "print(\"\\nConfusion Matrix:\")\n",
        "cm = confusion_matrix(y_test, y_pred)\n",
        "print(cm)\n",
        "\n",
        "# Visualize Confusion Matrix\n",
        "plt.figure(figsize=(6, 5))\n",
        "sns.heatmap(cm, annot=True, fmt='d', cmap='Blues', xticklabels=['Cat', 'Dog'], yticklabels=['Cat', 'Dog'])\n",
        "plt.xlabel('Predicted')\n",
        "plt.ylabel('True')\n",
        "plt.title('Confusion Matrix')\n",
        "plt.show()"
      ],
      "metadata": {
        "colab": {
          "base_uri": "https://localhost:8080/",
          "height": 904
        },
        "id": "hXNc7YRh2YFK",
        "outputId": "19149487-977c-4ea0-d3f2-cc8d4710b2d7"
      },
      "execution_count": null,
      "outputs": [
        {
          "output_type": "stream",
          "name": "stdout",
          "text": [
            "\n",
            "Initializing SVM classifier...\n",
            "Training SVM model. This might still take a few minutes (e.g., 1-5 minutes for 160 images x 30000 features)...\n",
            "[LibSVM]SVM model training complete in 0.56 seconds.\n",
            "Making predictions on the test set...\n",
            "Predictions complete.\n",
            "\n",
            "--- Model Evaluation ---\n",
            "Accuracy: 0.5122\n",
            "\n",
            "Classification Report:\n",
            "              precision    recall  f1-score   support\n",
            "\n",
            "         Cat       0.56      0.45      0.50        22\n",
            "         Dog       0.48      0.58      0.52        19\n",
            "\n",
            "    accuracy                           0.51        41\n",
            "   macro avg       0.52      0.52      0.51        41\n",
            "weighted avg       0.52      0.51      0.51        41\n",
            "\n",
            "\n",
            "Confusion Matrix:\n",
            "[[10 12]\n",
            " [ 8 11]]\n"
          ]
        },
        {
          "output_type": "display_data",
          "data": {
            "text/plain": [
              "<Figure size 600x500 with 2 Axes>"
            ],
            "image/png": "[encoded data removed]"
          },
          "metadata": {}
        }
      ]
    },
    {
      "cell_type": "code",
      "source": [
        "from sklearn.svm import SVC\n",
        "from sklearn.metrics import accuracy_score, classification_report, confusion_matrix\n",
        "import time\n",
        "import matplotlib.pyplot as plt\n",
        "import seaborn as sns\n",
        "\n",
        "# --- Initialize and Train SVM ---\n",
        "print(\"\\nInitializing SVM classifier...\")\n",
        "# Using 'rbf' kernel is a good general choice. 'C' and 'gamma' are important hyperparameters.\n",
        "# For a dataset of 201 images (even after flattening to 30000 features), 'rbf' should be manageable.\n",
        "svm_model = SVC(kernel='rbf', C=1, gamma='scale', random_state=42, verbose=True)\n",
        "\n",
        "\n",
        "print(\"Training SVM model. This might still take a few minutes (e.g., 1-5 minutes for 160 images x 30000 features)...\")\n",
        "start_time = time.time()\n",
        "svm_model.fit(X_train, y_train)\n",
        "end_time = time.time()\n",
        "print(f\"SVM model training complete in {end_time - start_time:.2f} seconds.\")\n",
        "\n",
        "# --- Make Predictions ---\n",
        "print(\"Making predictions on the test set...\")\n",
        "y_pred = svm_model.predict(X_test)\n",
        "print(\"Predictions complete.\")\n",
        "\n",
        "# --- Evaluate the Model ---\n",
        "print(\"\\n--- Model Evaluation ---\")\n",
        "accuracy = accuracy_score(y_test, y_pred)\n",
        "print(f\"Accuracy: {accuracy:.4f}\")\n",
        "\n",
        "print(\"\\nClassification Report:\")\n",
        "print(classification_report(y_test, y_pred, target_names=['Cat', 'Dog'])) # Use 'Cat' and 'Dog' labels\n",
        "\n",
        "print(\"\\nConfusion Matrix:\")\n",
        "cm = confusion_matrix(y_test, y_pred)\n",
        "print(cm)\n",
        "\n",
        "# Visualize Confusion Matrix\n",
        "plt.figure(figsize=(6, 5))\n",
        "sns.heatmap(cm, annot=True, fmt='d', cmap='Blues', xticklabels=['Cat', 'Dog'], yticklabels=['Cat', 'Dog'])\n",
        "plt.xlabel('Predicted')\n",
        "plt.ylabel('True')\n",
        "plt.title('Confusion Matrix')\n",
        "plt.show()"
      ],
      "metadata": {
        "colab": {
          "base_uri": "https://localhost:8080/",
          "height": 904
        },
        "id": "j5FC23jK2rqg",
        "outputId": "119b0252-30bb-48a5-f3ef-720af440a3c7",
        "collapsed": true
      },
      "execution_count": null,
      "outputs": [
        {
          "output_type": "stream",
          "name": "stdout",
          "text": [
            "\n",
            "Initializing SVM classifier...\n",
            "Training SVM model. This might still take a few minutes (e.g., 1-5 minutes for 160 images x 30000 features)...\n",
            "[LibSVM]SVM model training complete in 3.08 seconds.\n",
            "Making predictions on the test set...\n",
            "Predictions complete.\n",
            "\n",
            "--- Model Evaluation ---\n",
            "Accuracy: 0.5122\n",
            "\n",
            "Classification Report:\n",
            "              precision    recall  f1-score   support\n",
            "\n",
            "         Cat       0.56      0.45      0.50        22\n",
            "         Dog       0.48      0.58      0.52        19\n",
            "\n",
            "    accuracy                           0.51        41\n",
            "   macro avg       0.52      0.52      0.51        41\n",
            "weighted avg       0.52      0.51      0.51        41\n",
            "\n",
            "\n",
            "Confusion Matrix:\n",
            "[[10 12]\n",
            " [ 8 11]]\n"
          ]
        },
        {
          "output_type": "display_data",
          "data": {
            "text/plain": [
              "<Figure size 600x500 with 2 Axes>"
            ],
            "image/png": "[encoded data removed]"
          },
          "metadata": {}
        }
      ]
    }
  ]
}